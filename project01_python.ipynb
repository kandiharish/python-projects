{
  "nbformat": 4,
  "nbformat_minor": 0,
  "metadata": {
    "colab": {
      "provenance": [],
      "authorship_tag": "ABX9TyPpCpPTBEl5ISvMJLScH1Yh",
      "include_colab_link": true
    },
    "kernelspec": {
      "name": "python3",
      "display_name": "Python 3"
    },
    "language_info": {
      "name": "python"
    }
  },
  "cells": [
    {
      "cell_type": "markdown",
      "metadata": {
        "id": "view-in-github",
        "colab_type": "text"
      },
      "source": [
        "<a href=\"https://colab.research.google.com/github/kandiharish/sih-2k23/blob/main/project01_python.ipynb\" target=\"_parent\"><img src=\"https://colab.research.google.com/assets/colab-badge.svg\" alt=\"Open In Colab\"/></a>"
      ]
    },
    {
      "cell_type": "code",
      "execution_count": 7,
      "metadata": {
        "colab": {
          "base_uri": "https://localhost:8080/"
        },
        "id": "YT2nnqt_Jh8V",
        "outputId": "61f08667-7510-4a9d-9e95-3283f672e6ad"
      },
      "outputs": [
        {
          "output_type": "stream",
          "name": "stdout",
          "text": [
            "Welcome to the Hari Restaurent\n",
            "\n",
            "Pizza :40\n",
            " pasta  :160\n",
            " Green tea  :30\n",
            " Coffee :120\n",
            " Salad :  290\n",
            " Burger :  250 \n",
            "Enter the name of item that want to order:salad\n",
            " Sorry Sir! Ordered itemsalad is not available in our menu!\n",
            "do you want to add another item to your orders?(Yes/No)Coffee\n",
            " The total amount of items is to pay  0\n",
            " Thankyou for Visiting Hari Restaurent\n"
          ]
        }
      ],
      "source": [
        "#menu of the restuarent\n",
        "menu={\n",
        "    'Pizza':140,\n",
        "    'Burger': 250,\n",
        "    'Pasta' :160,\n",
        "    'Salad' : 290,\n",
        "    'Coffee' :120,\n",
        "    'Greentea':30,\n",
        "}\n",
        "#greeting the customer\n",
        "print(\"Welcome to the Hari Restaurent\")\n",
        "print(\"\\nPizza :40\\n pasta  :160\\n Green tea  :30\\n Coffee :120\\n Salad :  290\\n Burger :  250 \")\n",
        "#total order amount\n",
        "order_total=0\n",
        "item_1=input(\"Enter the name of item that want to order:\")\n",
        "if item_1 in menu:\n",
        "  order_total += menu[item_1]\n",
        "  print(f\"Your item{item_1} has been added to your order \")\n",
        "else:\n",
        "  print(f\" Sorry Sir! Ordered item{item_1} is not available in our menu!\")\n",
        "\n",
        "  another_order=input(\"do you want to add another item to your orders?(Yes/No)\")\n",
        "  if another_order==\"Yes\":\n",
        "      item_2=input(\"Enter the name of second item that you want to order:\")\n",
        "      if item_2 in menu:\n",
        "        order_total += menu[item_2]\n",
        "        print(f\"item {item_2} has been added to order\")\n",
        "      else:\n",
        "       print(f\"Ordered item {item_2} is not available in our menu\")\n",
        "\n",
        "\n",
        "print(f\" The total amount of items is to pay  {order_total}\")\n",
        "print(\" Thankyou for Visiting Hari Restaurent\")\n"
      ]
    }
  ]
}